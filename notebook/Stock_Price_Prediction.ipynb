{
 "cells": [
  {
   "cell_type": "code",
   "execution_count": 66,
   "id": "c3ec20a8",
   "metadata": {},
   "outputs": [],
   "source": [
    "import requests\n",
    "import pandas as pd\n",
    "import numpy as np\n",
    "import seaborn as sns\n",
    "import matplotlib.pyplot as plt\n",
    "import csv"
   ]
  },
  {
   "cell_type": "markdown",
   "id": "49d19623",
   "metadata": {},
   "source": [
    "## Data Description\n",
    "\n",
    "    Date:    The date this data pertains to.\n",
    "    Open:    The opening price for the asset on the given date.\n",
    "    High:    The high price for the asset on the given date.\n",
    "    Low:     Low proce for theasset on the given date\n",
    "    close:   closing proce for the asset on given date.\n",
    "    Volume:  The number of shares traded on IEX only."
   ]
  },
  {
   "cell_type": "code",
   "execution_count": 67,
   "id": "54484518",
   "metadata": {},
   "outputs": [],
   "source": [
    "# getting data from tiingo webesite using API \n",
    "'''\n",
    "ticker name= stock name in tiingo website\n",
    "Start Date= Date from when we need historical data of a stock(format YYYY-MM-DD)\n",
    "resampleFreq = This allows you to set the frequency in which you want data resampled. For example \"1hour\" would return the data where OHLC is calculated on an hourly schedule.\n",
    "\n",
    "'''\n",
    "def data_extraction(ticker_name,startDate,resampleFreq,token):\n",
    "    url=\"https://api.tiingo.com/iex/{}/prices?startDate={}&resampleFreq={}&columns=open,high,low,close,volume&token={}\".format(ticker_name,startDate,resampleFreq,token)\n",
    "\n",
    "    data=requests.get(url)\n",
    "    dataset=data.json()\n",
    "    #print(data.status_code)\n",
    "    return dataset\n",
    "    \n",
    "json_dataset=data_extraction(ticker_name='aapl',startDate='2019-01-02',resampleFreq='1hour',token='a159a3a83b1754845d7353fbec1c9f2902d4a8e1')"
   ]
  },
  {
   "cell_type": "code",
   "execution_count": 68,
   "id": "bfe1bee1",
   "metadata": {},
   "outputs": [
    {
     "data": {
      "text/html": [
       "<div>\n",
       "<style scoped>\n",
       "    .dataframe tbody tr th:only-of-type {\n",
       "        vertical-align: middle;\n",
       "    }\n",
       "\n",
       "    .dataframe tbody tr th {\n",
       "        vertical-align: top;\n",
       "    }\n",
       "\n",
       "    .dataframe thead th {\n",
       "        text-align: right;\n",
       "    }\n",
       "</style>\n",
       "<table border=\"1\" class=\"dataframe\">\n",
       "  <thead>\n",
       "    <tr style=\"text-align: right;\">\n",
       "      <th></th>\n",
       "      <th>date</th>\n",
       "      <th>open</th>\n",
       "      <th>high</th>\n",
       "      <th>low</th>\n",
       "      <th>close</th>\n",
       "      <th>volume</th>\n",
       "    </tr>\n",
       "  </thead>\n",
       "  <tbody>\n",
       "    <tr>\n",
       "      <th>0</th>\n",
       "      <td>2019-01-02T15:00:00.000Z</td>\n",
       "      <td>155.140</td>\n",
       "      <td>157.190</td>\n",
       "      <td>154.575</td>\n",
       "      <td>156.850</td>\n",
       "      <td>85705.0</td>\n",
       "    </tr>\n",
       "    <tr>\n",
       "      <th>1</th>\n",
       "      <td>2019-01-02T16:00:00.000Z</td>\n",
       "      <td>156.850</td>\n",
       "      <td>158.340</td>\n",
       "      <td>156.740</td>\n",
       "      <td>157.065</td>\n",
       "      <td>71070.0</td>\n",
       "    </tr>\n",
       "    <tr>\n",
       "      <th>2</th>\n",
       "      <td>2019-01-02T17:00:00.000Z</td>\n",
       "      <td>157.065</td>\n",
       "      <td>158.395</td>\n",
       "      <td>156.925</td>\n",
       "      <td>158.160</td>\n",
       "      <td>45895.0</td>\n",
       "    </tr>\n",
       "    <tr>\n",
       "      <th>3</th>\n",
       "      <td>2019-01-02T18:00:00.000Z</td>\n",
       "      <td>158.170</td>\n",
       "      <td>158.820</td>\n",
       "      <td>158.135</td>\n",
       "      <td>158.725</td>\n",
       "      <td>44166.0</td>\n",
       "    </tr>\n",
       "    <tr>\n",
       "      <th>4</th>\n",
       "      <td>2019-01-02T19:00:00.000Z</td>\n",
       "      <td>158.730</td>\n",
       "      <td>158.735</td>\n",
       "      <td>157.770</td>\n",
       "      <td>157.910</td>\n",
       "      <td>71703.0</td>\n",
       "    </tr>\n",
       "    <tr>\n",
       "      <th>...</th>\n",
       "      <td>...</td>\n",
       "      <td>...</td>\n",
       "      <td>...</td>\n",
       "      <td>...</td>\n",
       "      <td>...</td>\n",
       "      <td>...</td>\n",
       "    </tr>\n",
       "    <tr>\n",
       "      <th>8229</th>\n",
       "      <td>2023-07-05T18:00:00.000Z</td>\n",
       "      <td>190.950</td>\n",
       "      <td>191.445</td>\n",
       "      <td>190.605</td>\n",
       "      <td>191.300</td>\n",
       "      <td>73721.0</td>\n",
       "    </tr>\n",
       "    <tr>\n",
       "      <th>8230</th>\n",
       "      <td>2023-07-05T19:00:00.000Z</td>\n",
       "      <td>191.295</td>\n",
       "      <td>191.500</td>\n",
       "      <td>191.205</td>\n",
       "      <td>191.335</td>\n",
       "      <td>102588.0</td>\n",
       "    </tr>\n",
       "    <tr>\n",
       "      <th>8231</th>\n",
       "      <td>2023-07-05T20:00:00.000Z</td>\n",
       "      <td>191.295</td>\n",
       "      <td>191.500</td>\n",
       "      <td>191.205</td>\n",
       "      <td>191.335</td>\n",
       "      <td>0.0</td>\n",
       "    </tr>\n",
       "    <tr>\n",
       "      <th>8232</th>\n",
       "      <td>2023-07-06T14:00:00.000Z</td>\n",
       "      <td>189.820</td>\n",
       "      <td>190.205</td>\n",
       "      <td>189.485</td>\n",
       "      <td>189.565</td>\n",
       "      <td>105221.0</td>\n",
       "    </tr>\n",
       "    <tr>\n",
       "      <th>8233</th>\n",
       "      <td>2023-07-06T15:00:00.000Z</td>\n",
       "      <td>189.550</td>\n",
       "      <td>190.620</td>\n",
       "      <td>189.515</td>\n",
       "      <td>190.485</td>\n",
       "      <td>50481.0</td>\n",
       "    </tr>\n",
       "  </tbody>\n",
       "</table>\n",
       "<p>8234 rows × 6 columns</p>\n",
       "</div>"
      ],
      "text/plain": [
       "                          date     open     high      low    close    volume\n",
       "0     2019-01-02T15:00:00.000Z  155.140  157.190  154.575  156.850   85705.0\n",
       "1     2019-01-02T16:00:00.000Z  156.850  158.340  156.740  157.065   71070.0\n",
       "2     2019-01-02T17:00:00.000Z  157.065  158.395  156.925  158.160   45895.0\n",
       "3     2019-01-02T18:00:00.000Z  158.170  158.820  158.135  158.725   44166.0\n",
       "4     2019-01-02T19:00:00.000Z  158.730  158.735  157.770  157.910   71703.0\n",
       "...                        ...      ...      ...      ...      ...       ...\n",
       "8229  2023-07-05T18:00:00.000Z  190.950  191.445  190.605  191.300   73721.0\n",
       "8230  2023-07-05T19:00:00.000Z  191.295  191.500  191.205  191.335  102588.0\n",
       "8231  2023-07-05T20:00:00.000Z  191.295  191.500  191.205  191.335       0.0\n",
       "8232  2023-07-06T14:00:00.000Z  189.820  190.205  189.485  189.565  105221.0\n",
       "8233  2023-07-06T15:00:00.000Z  189.550  190.620  189.515  190.485   50481.0\n",
       "\n",
       "[8234 rows x 6 columns]"
      ]
     },
     "execution_count": 68,
     "metadata": {},
     "output_type": "execute_result"
    }
   ],
   "source": [
    "stock_df=pd.json_normalize(json_dataset)\n",
    "stock_df"
   ]
  },
  {
   "cell_type": "markdown",
   "id": "6337b586",
   "metadata": {},
   "source": [
    "## checking NULL values"
   ]
  },
  {
   "cell_type": "code",
   "execution_count": 79,
   "id": "5a4d65ac",
   "metadata": {},
   "outputs": [
    {
     "name": "stdout",
     "output_type": "stream",
     "text": [
      "No null values\n"
     ]
    }
   ],
   "source": [
    "NULL_check=stock_df.isnull().sum()\n",
    "\n",
    "if (NULL_check.values>0).any():\n",
    "    print(\"Null values present\")\n",
    "\n",
    "else:\n",
    "    print(\"No null values\")\n"
   ]
  },
  {
   "cell_type": "markdown",
   "id": "456d8c1f",
   "metadata": {},
   "source": [
    "#### Observation:  \n",
    "    NO null values "
   ]
  },
  {
   "cell_type": "markdown",
   "id": "ce667d3d",
   "metadata": {},
   "source": [
    "## Checking data types"
   ]
  },
  {
   "cell_type": "code",
   "execution_count": 54,
   "id": "715e7cfd",
   "metadata": {},
   "outputs": [
    {
     "name": "stdout",
     "output_type": "stream",
     "text": [
      "<class 'pandas.core.frame.DataFrame'>\n",
      "RangeIndex: 8231 entries, 0 to 8230\n",
      "Data columns (total 6 columns):\n",
      " #   Column  Non-Null Count  Dtype  \n",
      "---  ------  --------------  -----  \n",
      " 0   date    8231 non-null   object \n",
      " 1   open    8231 non-null   float64\n",
      " 2   high    8231 non-null   float64\n",
      " 3   low     8231 non-null   float64\n",
      " 4   close   8231 non-null   float64\n",
      " 5   volume  8231 non-null   float64\n",
      "dtypes: float64(5), object(1)\n",
      "memory usage: 386.0+ KB\n"
     ]
    }
   ],
   "source": [
    "stock_df.info()"
   ]
  },
  {
   "cell_type": "code",
   "execution_count": 55,
   "id": "b3fdcad6",
   "metadata": {},
   "outputs": [],
   "source": [
    "## converting date column into datetime format\n",
    "\n",
    "stock_df['date']=pd.to_datetime(stock_df['date'])"
   ]
  },
  {
   "cell_type": "markdown",
   "id": "91cd5337",
   "metadata": {},
   "source": [
    "## Checking data from period to period"
   ]
  },
  {
   "cell_type": "code",
   "execution_count": 56,
   "id": "2a94b163",
   "metadata": {},
   "outputs": [
    {
     "data": {
      "text/plain": [
       "(                       date     open     high      low    close   volume\n",
       " 0 2019-01-02 15:00:00+00:00  155.140  157.190  154.575  156.850  85705.0\n",
       " 1 2019-01-02 16:00:00+00:00  156.850  158.340  156.740  157.065  71070.0\n",
       " 2 2019-01-02 17:00:00+00:00  157.065  158.395  156.925  158.160  45895.0\n",
       " 3 2019-01-02 18:00:00+00:00  158.170  158.820  158.135  158.725  44166.0\n",
       " 4 2019-01-02 19:00:00+00:00  158.730  158.735  157.770  157.910  71703.0,\n",
       "                           date     open     high      low    close    volume\n",
       " 8226 2023-07-05 15:00:00+00:00  192.350  192.380  190.895  190.930  107552.0\n",
       " 8227 2023-07-05 16:00:00+00:00  190.930  191.310  190.655  191.135   62051.0\n",
       " 8228 2023-07-05 17:00:00+00:00  191.130  191.305  190.850  190.935   49983.0\n",
       " 8229 2023-07-05 18:00:00+00:00  190.950  191.445  190.605  191.300   73721.0\n",
       " 8230 2023-07-05 19:00:00+00:00  191.295  191.500  191.205  191.335  102588.0)"
      ]
     },
     "execution_count": 56,
     "metadata": {},
     "output_type": "execute_result"
    }
   ],
   "source": [
    "stock_df.head(),stock_df.tail()"
   ]
  },
  {
   "cell_type": "markdown",
   "id": "ef01c258",
   "metadata": {},
   "source": [
    "### Observation\n",
    "    data is \n",
    "    starting--------------'2019-01-02'(yyy-mm-dd)\n",
    "    till------------------'2023-07-05'"
   ]
  },
  {
   "cell_type": "code",
   "execution_count": 57,
   "id": "55626d98",
   "metadata": {},
   "outputs": [],
   "source": [
    "# using close column to predict the stock\n",
    "close_stock=stock_df['close']"
   ]
  },
  {
   "cell_type": "code",
   "execution_count": 58,
   "id": "dffbbf5f",
   "metadata": {},
   "outputs": [
    {
     "data": {
      "text/plain": [
       "8226    190.930\n",
       "8227    191.135\n",
       "8228    190.935\n",
       "8229    191.300\n",
       "8230    191.335\n",
       "Name: close, dtype: float64"
      ]
     },
     "execution_count": 58,
     "metadata": {},
     "output_type": "execute_result"
    }
   ],
   "source": [
    "close_stock.tail()"
   ]
  },
  {
   "cell_type": "code",
   "execution_count": 59,
   "id": "fb8a33c0",
   "metadata": {},
   "outputs": [
    {
     "data": {
      "text/plain": [
       "[<matplotlib.lines.Line2D at 0x1752607a200>]"
      ]
     },
     "execution_count": 59,
     "metadata": {},
     "output_type": "execute_result"
    },
    {
     "data": {
      "image/png": "[encoded data removed]",
      "text/plain": [
       "<Figure size 640x480 with 1 Axes>"
      ]
     },
     "metadata": {},
     "output_type": "display_data"
    }
   ],
   "source": [
    "plt.plot(close_stock)"
   ]
  },
  {
   "cell_type": "markdown",
   "id": "4ea47d32",
   "metadata": {},
   "source": [
    "## Data Scaling \n",
    "\n",
    "        LSTM are sensitive to the scale of data. So we apply MinMax scaler"
   ]
  },
  {
   "cell_type": "code",
   "execution_count": 60,
   "id": "281bd5a9",
   "metadata": {},
   "outputs": [],
   "source": [
    "from sklearn.preprocessing import MinMaxScaler\n",
    "scaler= MinMaxScaler(feature_range=(0,1))\n",
    "close_stock=scaler.fit_transform(np.array(close_stock).reshape(-1,1))"
   ]
  },
  {
   "cell_type": "code",
   "execution_count": 61,
   "id": "0a31ea70",
   "metadata": {},
   "outputs": [
    {
     "data": {
      "text/plain": [
       "array([[0.12811666],\n",
       "       [0.12865033],\n",
       "       [0.13136829],\n",
       "       ...,\n",
       "       [0.21272107],\n",
       "       [0.21362706],\n",
       "       [0.21371393]])"
      ]
     },
     "execution_count": 61,
     "metadata": {},
     "output_type": "execute_result"
    }
   ],
   "source": [
    "close_stock"
   ]
  },
  {
   "cell_type": "markdown",
   "id": "1e3fae50",
   "metadata": {},
   "source": [
    "## Train Test split\n",
    "\n",
    "    >since the problem here is time series we dont use cross validation or random seed for train test split\n",
    "    >the data is depend on previous data for any time series\n",
    "        ex:- Day1  Day2  Day3\n",
    "              120  130    145\n",
    "              \n",
    "              here day2 value depend on day1 stock close value"
   ]
  },
  {
   "cell_type": "code",
   "execution_count": 62,
   "id": "caef61c9",
   "metadata": {},
   "outputs": [],
   "source": [
    "#Splitting train and test data\n",
    "\n",
    "training_size=int(len(close_stock)*0.65) #65% train data\n",
    "test_size=len(close_stock)-training_size  # 35% test size"
   ]
  },
  {
   "cell_type": "code",
   "execution_count": 63,
   "id": "fc94d8ef",
   "metadata": {},
   "outputs": [
    {
     "data": {
      "text/plain": [
       "(5350, 2881)"
      ]
     },
     "execution_count": 63,
     "metadata": {},
     "output_type": "execute_result"
    }
   ],
   "source": [
    "training_size,test_size"
   ]
  },
  {
   "cell_type": "code",
   "execution_count": 64,
   "id": "00915c51",
   "metadata": {},
   "outputs": [],
   "source": [
    "# we prepare train and test data by using above training_size and test_size\n",
    "\n",
    "#since trainnig size is 5339 train data will be till 0 to 5350\n",
    "train_data,test_data=close_stock[0:training_size],close_stock[training_size:len(close_stock),:1]"
   ]
  },
  {
   "cell_type": "code",
   "execution_count": 65,
   "id": "6a1e4f17",
   "metadata": {},
   "outputs": [
    {
     "data": {
      "text/plain": [
       "(5350, 2881)"
      ]
     },
     "execution_count": 65,
     "metadata": {},
     "output_type": "execute_result"
    }
   ],
   "source": [
    "len(train_data),len(test_data)"
   ]
  },
  {
   "cell_type": "markdown",
   "id": "81837c46",
   "metadata": {},
   "source": [
    "## Data Preprocessing"
   ]
  },
  {
   "cell_type": "code",
   "execution_count": null,
   "id": "ef3aab4f",
   "metadata": {},
   "outputs": [],
   "source": []
  },
  {
   "cell_type": "code",
   "execution_count": null,
   "id": "2d1ed7a1",
   "metadata": {},
   "outputs": [],
   "source": []
  }
 ],
 "metadata": {
  "kernelspec": {
   "display_name": "Python 3 (ipykernel)",
   "language": "python",
   "name": "python3"
  },
  "language_info": {
   "codemirror_mode": {
    "name": "ipython",
    "version": 3
   },
   "file_extension": ".py",
   "mimetype": "text/x-python",
   "name": "python",
   "nbconvert_exporter": "python",
   "pygments_lexer": "ipython3",
   "version": "3.10.4"
  }
 },
 "nbformat": 4,
 "nbformat_minor": 5
}
