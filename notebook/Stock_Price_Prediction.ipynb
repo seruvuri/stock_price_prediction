{
 "cells": [
  {
   "cell_type": "code",
   "execution_count": 2,
   "id": "c3ec20a8",
   "metadata": {},
   "outputs": [],
   "source": [
    "import requests\n",
    "import pandas as pd\n",
    "import numpy as np\n",
    "import seaborn as sns\n",
    "import matplotlib.pyplot as plt\n",
    "import csv"
   ]
  },
  {
   "cell_type": "markdown",
   "id": "49d19623",
   "metadata": {},
   "source": [
    "## Data Description\n",
    "\n",
    "    Date:    The date this data pertains to.\n",
    "    Open:    The opening price for the asset on the given date.\n",
    "    High:    The high price for the asset on the given date.\n",
    "    Low:     Low proce for theasset on the given date\n",
    "    close:   closing proce for the asset on given date.\n",
    "    Volume:  The number of shares traded on IEX only."
   ]
  },
  {
   "cell_type": "code",
   "execution_count": 3,
   "id": "54484518",
   "metadata": {},
   "outputs": [],
   "source": [
    "# getting data from tiingo webesite using API \n",
    "'''\n",
    "ticker name= stock name in tiingo website\n",
    "Start Date= Date from when we need historical data of a stock(format YYYY-MM-DD)\n",
    "resampleFreq = This allows you to set the frequency in which you want data resampled. For example \"1hour\" would return the data where OHLC is calculated on an hourly schedule.\n",
    "\n",
    "'''\n",
    "def data_extraction(ticker_name,startDate,resampleFreq,token):\n",
    "    url=\"https://api.tiingo.com/iex/{}/prices?startDate={}&resampleFreq={}&columns=open,high,low,close,volume&token={}\".format(ticker_name,startDate,resampleFreq,token)\n",
    "\n",
    "    data=requests.get(url)\n",
    "    dataset=data.json()\n",
    "    return dataset\n",
    "    \n",
    "json_dataset=data_extraction(ticker_name='aapl',startDate='2019-01-02',resampleFreq='1hour',token='a159a3a83b1754845d7353fbec1c9f2902d4a8e1')"
   ]
  },
  {
   "cell_type": "code",
   "execution_count": 4,
   "id": "bfe1bee1",
   "metadata": {},
   "outputs": [
    {
     "data": {
      "text/html": [
       "<div>\n",
       "<style scoped>\n",
       "    .dataframe tbody tr th:only-of-type {\n",
       "        vertical-align: middle;\n",
       "    }\n",
       "\n",
       "    .dataframe tbody tr th {\n",
       "        vertical-align: top;\n",
       "    }\n",
       "\n",
       "    .dataframe thead th {\n",
       "        text-align: right;\n",
       "    }\n",
       "</style>\n",
       "<table border=\"1\" class=\"dataframe\">\n",
       "  <thead>\n",
       "    <tr style=\"text-align: right;\">\n",
       "      <th></th>\n",
       "      <th>date</th>\n",
       "      <th>open</th>\n",
       "      <th>high</th>\n",
       "      <th>low</th>\n",
       "      <th>close</th>\n",
       "      <th>volume</th>\n",
       "    </tr>\n",
       "  </thead>\n",
       "  <tbody>\n",
       "    <tr>\n",
       "      <th>0</th>\n",
       "      <td>2019-01-02T15:00:00.000Z</td>\n",
       "      <td>155.140</td>\n",
       "      <td>157.190</td>\n",
       "      <td>154.575</td>\n",
       "      <td>156.850</td>\n",
       "      <td>85705.0</td>\n",
       "    </tr>\n",
       "    <tr>\n",
       "      <th>1</th>\n",
       "      <td>2019-01-02T16:00:00.000Z</td>\n",
       "      <td>156.850</td>\n",
       "      <td>158.340</td>\n",
       "      <td>156.740</td>\n",
       "      <td>157.065</td>\n",
       "      <td>71070.0</td>\n",
       "    </tr>\n",
       "    <tr>\n",
       "      <th>2</th>\n",
       "      <td>2019-01-02T17:00:00.000Z</td>\n",
       "      <td>157.065</td>\n",
       "      <td>158.395</td>\n",
       "      <td>156.925</td>\n",
       "      <td>158.160</td>\n",
       "      <td>45895.0</td>\n",
       "    </tr>\n",
       "    <tr>\n",
       "      <th>3</th>\n",
       "      <td>2019-01-02T18:00:00.000Z</td>\n",
       "      <td>158.170</td>\n",
       "      <td>158.820</td>\n",
       "      <td>158.135</td>\n",
       "      <td>158.725</td>\n",
       "      <td>44166.0</td>\n",
       "    </tr>\n",
       "    <tr>\n",
       "      <th>4</th>\n",
       "      <td>2019-01-02T19:00:00.000Z</td>\n",
       "      <td>158.730</td>\n",
       "      <td>158.735</td>\n",
       "      <td>157.770</td>\n",
       "      <td>157.910</td>\n",
       "      <td>71703.0</td>\n",
       "    </tr>\n",
       "    <tr>\n",
       "      <th>...</th>\n",
       "      <td>...</td>\n",
       "      <td>...</td>\n",
       "      <td>...</td>\n",
       "      <td>...</td>\n",
       "      <td>...</td>\n",
       "      <td>...</td>\n",
       "    </tr>\n",
       "    <tr>\n",
       "      <th>8210</th>\n",
       "      <td>2023-06-30T20:00:00.000Z</td>\n",
       "      <td>193.010</td>\n",
       "      <td>194.485</td>\n",
       "      <td>192.885</td>\n",
       "      <td>193.890</td>\n",
       "      <td>0.0</td>\n",
       "    </tr>\n",
       "    <tr>\n",
       "      <th>8211</th>\n",
       "      <td>2023-07-03T14:00:00.000Z</td>\n",
       "      <td>192.960</td>\n",
       "      <td>193.165</td>\n",
       "      <td>191.750</td>\n",
       "      <td>191.985</td>\n",
       "      <td>150108.0</td>\n",
       "    </tr>\n",
       "    <tr>\n",
       "      <th>8212</th>\n",
       "      <td>2023-07-03T15:00:00.000Z</td>\n",
       "      <td>191.975</td>\n",
       "      <td>192.515</td>\n",
       "      <td>191.895</td>\n",
       "      <td>192.220</td>\n",
       "      <td>92367.0</td>\n",
       "    </tr>\n",
       "    <tr>\n",
       "      <th>8213</th>\n",
       "      <td>2023-07-03T16:00:00.000Z</td>\n",
       "      <td>192.220</td>\n",
       "      <td>192.555</td>\n",
       "      <td>191.990</td>\n",
       "      <td>192.460</td>\n",
       "      <td>135488.0</td>\n",
       "    </tr>\n",
       "    <tr>\n",
       "      <th>8214</th>\n",
       "      <td>2023-07-03T17:00:00.000Z</td>\n",
       "      <td>192.420</td>\n",
       "      <td>192.490</td>\n",
       "      <td>192.320</td>\n",
       "      <td>192.490</td>\n",
       "      <td>232.0</td>\n",
       "    </tr>\n",
       "  </tbody>\n",
       "</table>\n",
       "<p>8215 rows × 6 columns</p>\n",
       "</div>"
      ],
      "text/plain": [
       "                          date     open     high      low    close    volume\n",
       "0     2019-01-02T15:00:00.000Z  155.140  157.190  154.575  156.850   85705.0\n",
       "1     2019-01-02T16:00:00.000Z  156.850  158.340  156.740  157.065   71070.0\n",
       "2     2019-01-02T17:00:00.000Z  157.065  158.395  156.925  158.160   45895.0\n",
       "3     2019-01-02T18:00:00.000Z  158.170  158.820  158.135  158.725   44166.0\n",
       "4     2019-01-02T19:00:00.000Z  158.730  158.735  157.770  157.910   71703.0\n",
       "...                        ...      ...      ...      ...      ...       ...\n",
       "8210  2023-06-30T20:00:00.000Z  193.010  194.485  192.885  193.890       0.0\n",
       "8211  2023-07-03T14:00:00.000Z  192.960  193.165  191.750  191.985  150108.0\n",
       "8212  2023-07-03T15:00:00.000Z  191.975  192.515  191.895  192.220   92367.0\n",
       "8213  2023-07-03T16:00:00.000Z  192.220  192.555  191.990  192.460  135488.0\n",
       "8214  2023-07-03T17:00:00.000Z  192.420  192.490  192.320  192.490     232.0\n",
       "\n",
       "[8215 rows x 6 columns]"
      ]
     },
     "execution_count": 4,
     "metadata": {},
     "output_type": "execute_result"
    }
   ],
   "source": [
    "stock_df=pd.json_normalize(json_dataset)\n",
    "stock_df"
   ]
  },
  {
   "cell_type": "markdown",
   "id": "6337b586",
   "metadata": {},
   "source": [
    "## checking NULL values"
   ]
  },
  {
   "cell_type": "code",
   "execution_count": 5,
   "id": "b5e6ec2c",
   "metadata": {},
   "outputs": [
    {
     "data": {
      "text/plain": [
       "date      0\n",
       "open      0\n",
       "high      0\n",
       "low       0\n",
       "close     0\n",
       "volume    0\n",
       "dtype: int64"
      ]
     },
     "execution_count": 5,
     "metadata": {},
     "output_type": "execute_result"
    }
   ],
   "source": [
    "stock_df.isnull().sum()"
   ]
  },
  {
   "cell_type": "markdown",
   "id": "456d8c1f",
   "metadata": {},
   "source": [
    "#### Observation:  \n",
    "    NO null values "
   ]
  },
  {
   "cell_type": "markdown",
   "id": "ce667d3d",
   "metadata": {},
   "source": [
    "## Checking data types"
   ]
  },
  {
   "cell_type": "code",
   "execution_count": 6,
   "id": "715e7cfd",
   "metadata": {},
   "outputs": [
    {
     "name": "stdout",
     "output_type": "stream",
     "text": [
      "<class 'pandas.core.frame.DataFrame'>\n",
      "RangeIndex: 8215 entries, 0 to 8214\n",
      "Data columns (total 6 columns):\n",
      " #   Column  Non-Null Count  Dtype  \n",
      "---  ------  --------------  -----  \n",
      " 0   date    8215 non-null   object \n",
      " 1   open    8215 non-null   float64\n",
      " 2   high    8215 non-null   float64\n",
      " 3   low     8215 non-null   float64\n",
      " 4   close   8215 non-null   float64\n",
      " 5   volume  8215 non-null   float64\n",
      "dtypes: float64(5), object(1)\n",
      "memory usage: 385.2+ KB\n"
     ]
    }
   ],
   "source": [
    "stock_df.info()"
   ]
  },
  {
   "cell_type": "code",
   "execution_count": 7,
   "id": "b3fdcad6",
   "metadata": {},
   "outputs": [],
   "source": [
    "## converting date column into datetime format\n",
    "\n",
    "stock_df['date']=pd.to_datetime(stock_df['date'])"
   ]
  },
  {
   "cell_type": "markdown",
   "id": "91cd5337",
   "metadata": {},
   "source": [
    "## Checking data from period to period"
   ]
  },
  {
   "cell_type": "code",
   "execution_count": 8,
   "id": "2a94b163",
   "metadata": {},
   "outputs": [
    {
     "data": {
      "text/plain": [
       "(                       date     open     high      low    close   volume\n",
       " 0 2019-01-02 15:00:00+00:00  155.140  157.190  154.575  156.850  85705.0\n",
       " 1 2019-01-02 16:00:00+00:00  156.850  158.340  156.740  157.065  71070.0\n",
       " 2 2019-01-02 17:00:00+00:00  157.065  158.395  156.925  158.160  45895.0\n",
       " 3 2019-01-02 18:00:00+00:00  158.170  158.820  158.135  158.725  44166.0\n",
       " 4 2019-01-02 19:00:00+00:00  158.730  158.735  157.770  157.910  71703.0,\n",
       "                           date     open     high      low    close    volume\n",
       " 8210 2023-06-30 20:00:00+00:00  193.010  194.485  192.885  193.890       0.0\n",
       " 8211 2023-07-03 14:00:00+00:00  192.960  193.165  191.750  191.985  150108.0\n",
       " 8212 2023-07-03 15:00:00+00:00  191.975  192.515  191.895  192.220   92367.0\n",
       " 8213 2023-07-03 16:00:00+00:00  192.220  192.555  191.990  192.460  135488.0\n",
       " 8214 2023-07-03 17:00:00+00:00  192.420  192.490  192.320  192.490     232.0)"
      ]
     },
     "execution_count": 8,
     "metadata": {},
     "output_type": "execute_result"
    }
   ],
   "source": [
    "stock_df.head(),stock_df.tail()"
   ]
  },
  {
   "cell_type": "markdown",
   "id": "ef01c258",
   "metadata": {},
   "source": [
    "### Observation\n",
    "    data is \n",
    "    starting--------------'2019-01-02'(yyy-mm-dd)\n",
    "    till------------------'2023-07-03'"
   ]
  },
  {
   "cell_type": "code",
   "execution_count": 10,
   "id": "55626d98",
   "metadata": {},
   "outputs": [],
   "source": [
    "# using close column to predict the stock\n",
    "close_stock=stock_df['close']"
   ]
  },
  {
   "cell_type": "code",
   "execution_count": 15,
   "id": "7ab3e53f",
   "metadata": {},
   "outputs": [
    {
     "data": {
      "text/plain": [
       "8210    193.890\n",
       "8211    191.985\n",
       "8212    192.220\n",
       "8213    192.460\n",
       "8214    192.490\n",
       "Name: close, dtype: float64"
      ]
     },
     "execution_count": 15,
     "metadata": {},
     "output_type": "execute_result"
    }
   ],
   "source": [
    "close_stock.tail()"
   ]
  },
  {
   "cell_type": "code",
   "execution_count": 12,
   "id": "2858182b",
   "metadata": {},
   "outputs": [
    {
     "data": {
      "text/plain": [
       "[<matplotlib.lines.Line2D at 0x1752249f340>]"
      ]
     },
     "execution_count": 12,
     "metadata": {},
     "output_type": "execute_result"
    },
    {
     "data": {
      "image/png": "[encoded data removed]",
      "text/plain": [
       "<Figure size 640x480 with 1 Axes>"
      ]
     },
     "metadata": {},
     "output_type": "display_data"
    }
   ],
   "source": [
    "plt.plot(close_stock)"
   ]
  },
  {
   "cell_type": "markdown",
   "id": "b42f2772",
   "metadata": {},
   "source": [
    "## Data Scaling \n",
    "\n",
    "        LSTM are sensitive to the scale of data. So we apply MinMax scaler"
   ]
  },
  {
   "cell_type": "code",
   "execution_count": 16,
   "id": "71cadb94",
   "metadata": {},
   "outputs": [],
   "source": [
    "from sklearn.preprocessing import MinMaxScaler\n",
    "scaler= MinMaxScaler(feature_range=(0,1))\n",
    "close_stock=scaler.fit_transform(np.array(close_stock).reshape(-1,1))"
   ]
  },
  {
   "cell_type": "code",
   "execution_count": 17,
   "id": "4a466c5e",
   "metadata": {},
   "outputs": [
    {
     "data": {
      "text/plain": [
       "array([[0.12811666],\n",
       "       [0.12865033],\n",
       "       [0.13136829],\n",
       "       ...,\n",
       "       [0.21591064],\n",
       "       [0.21650636],\n",
       "       [0.21658083]])"
      ]
     },
     "execution_count": 17,
     "metadata": {},
     "output_type": "execute_result"
    }
   ],
   "source": [
    "close_stock"
   ]
  },
  {
   "cell_type": "markdown",
   "id": "b5bbb1af",
   "metadata": {},
   "source": [
    "## Train Test split for \n",
    "\n",
    "    >since the problem here is time series we dont use cross validation or random seed for train test split\n",
    "    >the data is depend on previous data for any time series\n",
    "        ex:- Day1  Day2  Day3\n",
    "              120  130    145\n",
    "              \n",
    "              here day2 value depend on day1 stock close value"
   ]
  },
  {
   "cell_type": "code",
   "execution_count": 18,
   "id": "7378f0af",
   "metadata": {},
   "outputs": [],
   "source": [
    "#Splitting train and test data\n",
    "\n",
    "training_size=int(len(close_stock)*0.65) #65% train data\n",
    "test_size=len(close_stock)-training_size  # 35% test size"
   ]
  },
  {
   "cell_type": "code",
   "execution_count": 19,
   "id": "e9bdea77",
   "metadata": {},
   "outputs": [
    {
     "data": {
      "text/plain": [
       "(5339, 2876)"
      ]
     },
     "execution_count": 19,
     "metadata": {},
     "output_type": "execute_result"
    }
   ],
   "source": [
    "training_size,test_size"
   ]
  },
  {
   "cell_type": "code",
   "execution_count": 20,
   "id": "12ff86ac",
   "metadata": {},
   "outputs": [],
   "source": [
    "# we prepare train and test data by using above training_size and test_size\n",
    "\n",
    "#since trainnig size is 5339 train data will be till 0 to 5339\n",
    "train_data,test_data=close_stock[0:training_size],close_stock[training_size:len(close_stock),:1]"
   ]
  },
  {
   "cell_type": "code",
   "execution_count": 22,
   "id": "e2ac2c77",
   "metadata": {},
   "outputs": [
    {
     "data": {
      "text/plain": [
       "(5339, 2876)"
      ]
     },
     "execution_count": 22,
     "metadata": {},
     "output_type": "execute_result"
    }
   ],
   "source": [
    "len(train_data),len(test_data)"
   ]
  },
  {
   "cell_type": "markdown",
   "id": "c2961f6e",
   "metadata": {},
   "source": [
    "## Data Preprocessing"
   ]
  },
  {
   "cell_type": "code",
   "execution_count": null,
   "id": "bb798861",
   "metadata": {},
   "outputs": [],
   "source": []
  }
 ],
 "metadata": {
  "kernelspec": {
   "display_name": "Python 3 (ipykernel)",
   "language": "python",
   "name": "python3"
  },
  "language_info": {
   "codemirror_mode": {
    "name": "ipython",
    "version": 3
   },
   "file_extension": ".py",
   "mimetype": "text/x-python",
   "name": "python",
   "nbconvert_exporter": "python",
   "pygments_lexer": "ipython3",
   "version": "3.10.4"
  }
 },
 "nbformat": 4,
 "nbformat_minor": 5
}
